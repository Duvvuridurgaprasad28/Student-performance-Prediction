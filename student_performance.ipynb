{
 "cells": [
  {
   "cell_type": "markdown",
   "id": "9b7efc98-e610-4e53-a1af-0436e57094cc",
   "metadata": {},
   "source": [
    "# Student Performance"
   ]
  },
  {
   "cell_type": "markdown",
   "id": "52bd4b1f-2bd1-4395-931c-630bbcb43ab1",
   "metadata": {},
   "source": [
    "## Importing the dataset"
   ]
  },
  {
   "cell_type": "code",
   "execution_count": null,
   "id": "6f1e2eed-2176-4bf7-a583-84ad369fa045",
   "metadata": {},
   "outputs": [],
   "source": [
    "# importing necessary libraries\n",
    "import pandas as pd\n",
    "import matplotlib.pyplot as plt\n",
    "import numpy as np\n",
    "import seaborn as sns\n",
    "import plotly.express as px\n",
    "\n",
    "# Set pandas display options\n",
    "pd.set_option('display.max_columns', None)  # Display all columns\n",
    "pd.set_option('display.max_rows', None)  # Display all rows\n",
    "pd.set_option('display.width', 1000)  # Adjust the width of the display\n",
    "\n",
    "# Configure matplotlib settings\n",
    "plt.rcParams['figure.figsize'] = [10, 6]  # Set default figure size\n",
    "plt.rcParams['axes.grid'] = True  # Enable grid by default\n",
    "\n",
    "# Set seaborn style\n",
    "sns.set(style=\"whitegrid\")\n",
    "\n",
    "# Optional: Set numpy display options\n",
    "np.set_printoptions(threshold=np.inf)  # Display entire numpy arrays"
   ]
  },
  {
   "cell_type": "markdown",
   "id": "8748e206-f01e-49c0-ab4f-da3bbfdfc0a6",
   "metadata": {},
   "source": [
    "\n",
    "## **Dataset Description**:\n",
    "This dataset consists of information related to students' academic performance, including various personal and academic attributes. It contains 10 rows (data points) and 9 columns (features), as summarized below:\n",
    "\n",
    "1. **StudentID** (Numeric): A unique identifier for each student. It helps distinguish between individual students in the dataset.\n",
    "   \n",
    "2. **Name** (Categorical/String): The name of the student. This attribute might not be directly useful for modeling, but it serves as an identifier for each record.\n",
    "\n",
    "3. **Gender** (Categorical/String): The gender of the student (e.g., \"Male\" or \"Female\"). This feature could be used to examine any potential gender-related trends in the dataset.\n",
    "\n",
    "4. **AttendanceRate** (Numeric): The percentage of classes attended by the student. A higher attendance rate may correlate with better academic performance.\n",
    "\n",
    "5. **StudyHoursPerWeek** (Numeric): The number of hours the student spends studying per week. This feature is expected to have a significant impact on the student's final grade.\n",
    "\n",
    "6. **PreviousGrade** (Numeric): The grade achieved by the student in their previous course(s). This feature could serve as an indicator of academic ability or prior performance.\n",
    "\n",
    "7. **ExtracurricularActivities** (Categorical/String): A binary or categorical indicator of whether the student participates in extracurricular activities. This could represent involvement in clubs, sports, or other non-academic pursuits, which may affect their academic performance.\n",
    "\n",
    "8. **ParentalSupport** (Categorical/String): A categorical feature indicating whether the student receives parental support (e.g., \"Yes\" or \"No\"). Parental support may have a positive effect on a student's academic performance.\n",
    "\n",
    "9. **FinalGrade** (Numeric): The target variable representing the student's final grade in their course or academic program. This is the variable that will be predicted in the machine learning model.\n"
   ]
  },
  {
   "cell_type": "code",
   "execution_count": null,
   "id": "72ea2da4-2669-4e46-a047-1cfb482ccfc1",
   "metadata": {},
   "outputs": [],
   "source": [
    "# Read the dataset from the CSV file\n",
    "df = pd.read_csv(\"student_performance.csv\")\n",
    "\n",
    "# Display the first 5 rows of the dataframe to get an overview of the data\n",
    "df.head()"
   ]
  },
  {
   "cell_type": "code",
   "execution_count": null,
   "id": "b35f2e3a-43ac-42bf-ab4b-beb50ae1734a",
   "metadata": {},
   "outputs": [],
   "source": [
    "df"
   ]
  },
  {
   "cell_type": "code",
   "execution_count": null,
   "id": "5da6e020-5f08-43c8-9eb3-59295c7eab70",
   "metadata": {},
   "outputs": [],
   "source": [
    "# To find the duplicate values in the dataset\n",
    "print(df.duplicated().sum())"
   ]
  },
  {
   "cell_type": "code",
   "execution_count": null,
   "id": "58bd8bbe-692f-4c66-9eba-8935ea467b28",
   "metadata": {},
   "outputs": [],
   "source": [
    "# Display the shape of the dataframe to understand its dimensions\n",
    "print(\"\\nShape of the dataset (number of rows and columns):\")\n",
    "print(df.shape)"
   ]
  },
  {
   "cell_type": "code",
   "execution_count": null,
   "id": "9c71115b-a9a4-4e32-b53f-c4cc15c84317",
   "metadata": {},
   "outputs": [],
   "source": [
    "# Check for missing values\n",
    "print(df.isnull().sum())"
   ]
  },
  {
   "cell_type": "markdown",
   "id": "03ff9c50-566c-4788-b56e-efc9f4cf256b",
   "metadata": {},
   "source": [
    "## **Observations**:\n",
    "### Shape of the Dataset:\n",
    "- **Number of Rows (Data points)**: 10\n",
    "- **Number of Columns (Features)**: 9\n",
    "\n",
    "### Missing Values:\n",
    "The dataset does not have any missing values, as indicated by the count of 0 missing values across all features.\n",
    "\n",
    "### Target Variable:\n",
    "- The target variable is **FinalGrade**, which is numeric and will be used to predict the student's performance based on the other features."
   ]
  },
  {
   "cell_type": "code",
   "execution_count": null,
   "id": "b86c691f-18cf-4a74-b461-5088a12d3def",
   "metadata": {},
   "outputs": [],
   "source": [
    "df.info()"
   ]
  },
  {
   "cell_type": "code",
   "execution_count": null,
   "id": "dc7f299c-a4d6-4e82-95e7-a49d922b97df",
   "metadata": {},
   "outputs": [],
   "source": [
    "columns = df.columns"
   ]
  },
  {
   "cell_type": "code",
   "execution_count": null,
   "id": "8de4a3ac-c49f-4dd1-9969-5770824e2c27",
   "metadata": {},
   "outputs": [],
   "source": [
    "columns"
   ]
  },
  {
   "cell_type": "code",
   "execution_count": null,
   "id": "8a859534-f4fb-4db2-9943-245bd7d0ef26",
   "metadata": {},
   "outputs": [],
   "source": [
    "for col in df.columns:\n",
    "    unique_values = df[col].unique()\n",
    "    print(f\"{col}: {unique_values} (Count: {len(unique_values)})\")"
   ]
  },
  {
   "cell_type": "code",
   "execution_count": null,
   "id": "facb65b5-55b2-489a-b749-202e10e95933",
   "metadata": {},
   "outputs": [],
   "source": [
    "df.describe()"
   ]
  },
  {
   "cell_type": "code",
   "execution_count": null,
   "id": "ca79f2e3-8214-4e79-b352-dde1c510bcec",
   "metadata": {},
   "outputs": [],
   "source": [
    "df.head()"
   ]
  },
  {
   "cell_type": "code",
   "execution_count": null,
   "id": "c43af0a3-f8e4-496c-a27c-874578804517",
   "metadata": {},
   "outputs": [],
   "source": [
    "colors = ['mediumturquoise', 'lightgreen']\n",
    "fig = px.pie(df, values='FinalGrade', names='Gender')\n",
    "fig.update_traces(hoverinfo='label+percent', textinfo='value', textfont_size=20,\n",
    "                  marker=dict(colors=colors, line=dict(color='#000000', width=2)))\n",
    "fig.show()\n"
   ]
  },
  {
   "cell_type": "code",
   "execution_count": null,
   "id": "e8fcece9-378a-4a0e-8e8c-2edfe0ed68ba",
   "metadata": {},
   "outputs": [],
   "source": [
    "fig = px.bar(df, x=\"FinalGrade\", y=\"AttendanceRate\", color=\"Gender\", orientation='h',\n",
    "             title=\"Attendance Rate vs Final Grade by Gender\",\n",
    "             labels={\"AttendanceRate\": \"Attendance Rate\", \"FinalGrade\": \"Final Grade\"})\n",
    "fig.update_traces(texttemplate='%{x}', textposition='auto')\n",
    "fig.update_layout(yaxis={'categoryorder':'total ascending'}) # Sorts the bars in ascending order\n",
    "\n",
    "fig.show()"
   ]
  },
  {
   "cell_type": "code",
   "execution_count": null,
   "id": "2d44b4c5-d082-44b9-91cf-a5269d101e94",
   "metadata": {
    "scrolled": true
   },
   "outputs": [],
   "source": [
    "fig = px.histogram(df, x=\"AttendanceRate\", y=\"FinalGrade\", color=\"Gender\", \n",
    "                   marginal=\"box\", # Adds a box plot on the side for better distribution visibility\n",
    "                   title=\"Distribution of Final Grades by Attendance Rate and Gender\",\n",
    "                   labels={\"AttendanceRate\": \"Attendance Rate\", \"FinalGrade\": \"Final Grade\"}) # Renaming axis labels for clarity\n",
    "fig.update_layout(bargap=0.2) # Adjusts the bar gap for better readability\n",
    "fig.show()"
   ]
  },
  {
   "cell_type": "code",
   "execution_count": null,
   "id": "df000823-d59f-4aa0-bf6b-e571d2f4b52d",
   "metadata": {},
   "outputs": [],
   "source": [
    "fig = px.bar(df, x=\"StudyHoursPerWeek\", y=\"FinalGrade\", color=\"ExtracurricularActivities\",\n",
    "             title=\"Study Hours per Week vs Final Grade by Extracurricular Activities\",\n",
    "             labels={\"StudyHoursPerWeek\": \"Study Hours per Week\", \"FinalGrade\": \"Final Grade\"})\n",
    "fig.show()"
   ]
  },
  {
   "cell_type": "code",
   "execution_count": null,
   "id": "48408028-718c-422e-9184-85f4d668b488",
   "metadata": {},
   "outputs": [],
   "source": [
    "fig = px.scatter(df, x=\"PreviousGrade\", y=\"FinalGrade\", color=\"Gender\",\n",
    "                 title=\"Previous Grade vs Final Grade by Gender\",\n",
    "                 labels={\"PreviousGrade\": \"Previous Grade\", \"FinalGrade\": \"Final Grade\"})\n",
    "fig.show()"
   ]
  },
  {
   "cell_type": "code",
   "execution_count": null,
   "id": "d86e9ce8-98df-4be4-93e8-c925567c39f8",
   "metadata": {},
   "outputs": [],
   "source": [
    "df.columns"
   ]
  },
  {
   "cell_type": "code",
   "execution_count": null,
   "id": "5c1f6e7c-8507-401f-ba66-670aa2f08390",
   "metadata": {},
   "outputs": [],
   "source": [
    "plt.title('FinalGrade Histogram')\n",
    "plt.xlabel('FinalGrade')\n",
    "plt.ylabel('Frequency')\n",
    "\n",
    "# Plotting the histogram\n",
    "plt.hist(df['FinalGrade'], rwidth=0.8, bins=10)  # You can adjust the number of bins if needed\n",
    "plt.show()"
   ]
  },
  {
   "cell_type": "code",
   "execution_count": null,
   "id": "0aa4229e-fde5-469d-8e16-4df24da51d7f",
   "metadata": {},
   "outputs": [],
   "source": [
    "fig = px.scatter(df, x=\"StudyHoursPerWeek\", y=\"FinalGrade\", color=\"Gender\",\n",
    "                 size=\"PreviousGrade\", # Represents the size of the points\n",
    "                 title=\"Study Hours per Week vs Final Grade, Colored by Gender and Sized by Previous Grade\",\n",
    "                 labels={\"StudyHoursPerWeek\": \"Study Hours per Week\", \"FinalGrade\": \"Final Grade\", \"PreviousGrade\": \"Previous Grade\"})\n",
    "fig.show()\n"
   ]
  },
  {
   "cell_type": "code",
   "execution_count": null,
   "id": "203e2ff8-f2f6-41d3-9adb-722782e13052",
   "metadata": {},
   "outputs": [],
   "source": [
    "# Identify the numeric columns\n",
    "numeric_columns = [\"StudentID\", \"AttendanceRate\", \"StudyHoursPerWeek\", \"PreviousGrade\", \"FinalGrade\"]\n",
    "\n",
    "# Loop through the numeric columns and create a box plot for each\n",
    "for column in numeric_columns:\n",
    "    fig = px.box(df, y=column, title=f\"Distribution of {column}\")\n",
    "    fig.show()\n"
   ]
  },
  {
   "cell_type": "code",
   "execution_count": null,
   "id": "cbd19241-ea05-4606-b648-88d4c80abe15",
   "metadata": {},
   "outputs": [],
   "source": [
    "# Dropping 'StudentID' and 'Name' columns\n",
    "df = df.drop(columns=['StudentID', 'Name'])"
   ]
  },
  {
   "cell_type": "code",
   "execution_count": null,
   "id": "16ffc795-54cb-4ccb-bc03-f8b9cc40d033",
   "metadata": {},
   "outputs": [],
   "source": [
    "# Display the resulting dataframe\n",
    "df"
   ]
  },
  {
   "cell_type": "code",
   "execution_count": null,
   "id": "eabbfe9f-31ef-4992-b2a7-97f2824804cc",
   "metadata": {},
   "outputs": [],
   "source": [
    "from sklearn.preprocessing import LabelEncoder\n",
    "\n",
    "\n",
    "# Label Encoding for categorical variables\n",
    "le_gender = LabelEncoder()\n",
    "le_support = LabelEncoder()\n",
    "\n",
    "df['Gender'] = le_gender.fit_transform(df['Gender'])\n",
    "df['ParentalSupport'] = le_support.fit_transform(df['ParentalSupport'])\n",
    "\n",
    "# Display the resulting dataframe\n",
    "df\n"
   ]
  },
  {
   "cell_type": "code",
   "execution_count": null,
   "id": "0cfc6dad-48de-4ce9-8243-284c413fdf06",
   "metadata": {},
   "outputs": [],
   "source": [
    "# Correlation matrix\n",
    "correlation_matrix = df.corr()\n",
    "sns.heatmap(correlation_matrix, annot=True, fmt='.2f')\n",
    "plt.title(\"Correlation Matrix\")\n",
    "plt.show()"
   ]
  },
  {
   "cell_type": "code",
   "execution_count": null,
   "id": "1fd37b48-7f0a-4872-b7fe-68c122027f8e",
   "metadata": {},
   "outputs": [],
   "source": [
    "# Pair plots\n",
    "sns.pairplot(df)\n",
    "plt.show()"
   ]
  },
  {
   "cell_type": "code",
   "execution_count": null,
   "id": "a410b66d-5370-425d-b687-b589148f8c57",
   "metadata": {},
   "outputs": [],
   "source": [
    "# Histograms and density plots\n",
    "df.hist(bins=20, figsize=(10, 10))\n",
    "plt.show()"
   ]
  },
  {
   "cell_type": "code",
   "execution_count": null,
   "id": "92ddc3e3-5991-404a-955e-33ad1ac46cef",
   "metadata": {},
   "outputs": [],
   "source": [
    "df.columns"
   ]
  },
  {
   "cell_type": "code",
   "execution_count": null,
   "id": "8697cc24-650a-4f7d-81da-33afb87fb5e9",
   "metadata": {},
   "outputs": [],
   "source": [
    "from sklearn.preprocessing import MinMaxScaler\n",
    "\n",
    "# Scaling all numeric features\n",
    "numeric_features = ['Gender', 'AttendanceRate', 'StudyHoursPerWeek', 'PreviousGrade', 'ExtracurricularActivities', 'ParentalSupport', 'FinalGrade']\n",
    "scaler = MinMaxScaler()\n",
    "df[numeric_features] = scaler.fit_transform(df[numeric_features])\n",
    "df"
   ]
  },
  {
   "cell_type": "code",
   "execution_count": null,
   "id": "40eb7ee5-3b68-40d9-aebc-24fdc9766b7a",
   "metadata": {},
   "outputs": [],
   "source": [
    "df.shape"
   ]
  },
  {
   "cell_type": "code",
   "execution_count": null,
   "id": "92827168-81b4-4b5c-a407-5e2e6870b324",
   "metadata": {},
   "outputs": [],
   "source": [
    "from sklearn.model_selection import train_test_split\n",
    "\n",
    "# Splitting data into training and testing sets\n",
    "X = df.drop(columns=['FinalGrade'])\n",
    "y = df['FinalGrade']\n",
    "X_train, X_test, y_train, y_test = train_test_split(X, y, test_size=0.2, random_state=42)"
   ]
  },
  {
   "cell_type": "code",
   "execution_count": null,
   "id": "7aa0a994-b651-44f9-bac6-dcd5898f0e0b",
   "metadata": {},
   "outputs": [],
   "source": [
    "print(\"Shape of X_train\", X_train.shape)\n",
    "print(\"Shape of X_test\", X_test.shape) \n",
    "print(\"Shape of y_train\", y_train.shape) \n",
    "print(\"Shape of y_test\", y_test.shape)"
   ]
  },
  {
   "cell_type": "code",
   "execution_count": null,
   "id": "1ae1cc92-4fff-45b9-9156-cc3c95f6db2d",
   "metadata": {},
   "outputs": [],
   "source": [
    "X_train.columns"
   ]
  },
  {
   "cell_type": "markdown",
   "id": "6b40f863-dc78-4ba3-9c75-0f307f7bce3d",
   "metadata": {},
   "source": [
    "## Training a Model"
   ]
  },
  {
   "cell_type": "markdown",
   "id": "7f2a7d9d-4474-4e02-8231-dfb458694201",
   "metadata": {},
   "source": [
    "### Simple Linear Regression model"
   ]
  },
  {
   "cell_type": "code",
   "execution_count": null,
   "id": "b6ad5c89-81c2-472f-a9bb-378016f45e52",
   "metadata": {},
   "outputs": [],
   "source": [
    "from sklearn.linear_model import LinearRegression\n",
    "from sklearn.metrics import mean_squared_error, r2_score\n",
    "\n",
    "# Training a Linear Regression model\n",
    "model = LinearRegression()\n",
    "model.fit(X_train, y_train)\n"
   ]
  },
  {
   "cell_type": "code",
   "execution_count": null,
   "id": "08ae6dbb-f7cd-488c-b9be-67c9936faac9",
   "metadata": {},
   "outputs": [],
   "source": [
    "\n",
    "# Predicting on the test set\n",
    "y_pred_lr = model.predict(X_test)\n",
    "\n",
    "# Calculating MSE\n",
    "mse = mean_squared_error(y_test, y_pred_lr)\n",
    "print(f\"Mean Squared Error: {mse}\")\n",
    "\n",
    "# Calculating  R-squared\n",
    "r2 = r2_score(y_test, y_pred_lr)\n",
    "\n",
    "print(f\"R-squared: {r2}\")"
   ]
  },
  {
   "cell_type": "code",
   "execution_count": null,
   "id": "446fdabd-9d6f-42f8-a828-26118d0f77c6",
   "metadata": {},
   "outputs": [],
   "source": [
    "from sklearn.tree import DecisionTreeRegressor\n",
    "from sklearn.metrics import mean_squared_error, r2_score\n",
    "\n",
    "# Training a Decision Tree Regressor\n",
    "tree_model = DecisionTreeRegressor(random_state=42)\n",
    "tree_model.fit(X_train, y_train)\n",
    "\n",
    "# Predicting on the test set\n",
    "y_pred_tree = tree_model.predict(X_test)\n",
    "\n",
    "# Evaluating the model\n",
    "mse_tree = mean_squared_error(y_test, y_pred_tree)\n",
    "r2_tree = r2_score(y_test, y_pred_tree)\n",
    "\n",
    "print(f\"Decision Tree Regressor - Mean Squared Error: {mse_tree}\")\n",
    "print(f\"Decision Tree Regressor - R-squared: {r2_tree}\")\n"
   ]
  },
  {
   "cell_type": "code",
   "execution_count": null,
   "id": "ddd20276-2f96-4cde-84ac-9ce08178e795",
   "metadata": {},
   "outputs": [],
   "source": [
    "from sklearn.ensemble import RandomForestRegressor\n",
    "\n",
    "# Training a Random Forest Regressor\n",
    "forest_model = RandomForestRegressor(n_estimators=100, random_state=42)\n",
    "forest_model.fit(X_train, y_train)\n",
    "\n",
    "# Predicting on the test set\n",
    "y_pred_forest = forest_model.predict(X_test)\n",
    "\n",
    "# Evaluating the model\n",
    "mse_forest = mean_squared_error(y_test, y_pred_forest)\n",
    "r2_forest = r2_score(y_test, y_pred_forest)\n",
    "\n",
    "print(f\"Random Forest Regressor - Mean Squared Error: {mse_forest}\")\n",
    "print(f\"Random Forest Regressor - R-squared: {r2_forest}\")\n"
   ]
  },
  {
   "cell_type": "code",
   "execution_count": null,
   "id": "2a240f89-700a-4695-aebd-1091cf08e597",
   "metadata": {},
   "outputs": [],
   "source": [
    "y_pred_forest"
   ]
  },
  {
   "cell_type": "code",
   "execution_count": null,
   "id": "7924e757-4222-4332-a928-3708b40c0d2f",
   "metadata": {},
   "outputs": [],
   "source": [
    "from sklearn.ensemble import GradientBoostingRegressor\n",
    "\n",
    "# Training a Gradient Boosting Regressor\n",
    "gboost_model = GradientBoostingRegressor(n_estimators=100, learning_rate=0.1, random_state=42)\n",
    "gboost_model.fit(X_train, y_train)\n",
    "\n",
    "# Predicting on the test set\n",
    "y_pred_gboost = gboost_model.predict(X_test)\n",
    "\n",
    "# Evaluating the model\n",
    "mse_gboost = mean_squared_error(y_test, y_pred_gboost)\n",
    "r2_gboost = r2_score(y_test, y_pred_gboost)\n",
    "\n",
    "print(f\"Gradient Boosting Regressor - Mean Squared Error: {mse_gboost}\")\n",
    "print(f\"Gradient Boosting Regressor - R-squared: {r2_gboost}\")\n"
   ]
  },
  {
   "cell_type": "code",
   "execution_count": null,
   "id": "81236ab7-4e2c-4ffa-91c4-8dc11f4413d8",
   "metadata": {},
   "outputs": [],
   "source": [
    "y_pred_gboost"
   ]
  },
  {
   "cell_type": "code",
   "execution_count": null,
   "id": "751fbd98-7c6d-46cc-a7f7-116afd2a8a86",
   "metadata": {},
   "outputs": [],
   "source": [
    "# Gather MSE and R-squared values\n",
    "mse_values = {\n",
    "    'Linear Regression': mse,\n",
    "    'Decision Tree Regressor': mse_tree,\n",
    "    'Random Forest Regressor': mse_forest,\n",
    "    'Gradient Boosting Regressor': mse_gboost\n",
    "}\n",
    "\n",
    "r2_values = {\n",
    "    'Linear Regression': r2,\n",
    "    'Decision Tree Regressor': r2_tree,\n",
    "    'Random Forest Regressor': r2_forest,\n",
    "    'Gradient Boosting Regressor': r2_gboost\n",
    "}\n"
   ]
  },
  {
   "cell_type": "code",
   "execution_count": null,
   "id": "f171aced-f460-4b44-86c3-2e60b7fca477",
   "metadata": {},
   "outputs": [],
   "source": [
    "print(\"mse_values\", mse_values)\n",
    "print(\"r2_values\", r2_values)"
   ]
  },
  {
   "cell_type": "code",
   "execution_count": null,
   "id": "be259f8c-eb11-41c6-9390-4f425b2e2986",
   "metadata": {},
   "outputs": [],
   "source": [
    "# Plot MSE values\n",
    "plt.figure(figsize=(10, 5))\n",
    "plt.bar(mse_values.keys(), mse_values.values(), color=['blue', 'green', 'red', 'purple', 'orange'])\n",
    "plt.xlabel('Models')\n",
    "plt.ylabel('Mean Squared Error (MSE)')\n",
    "plt.title('Comparison of Models by MSE')\n",
    "plt.xticks(rotation=45)\n",
    "plt.show()\n",
    "\n",
    "# Plot R-squared values\n",
    "plt.figure(figsize=(10, 5))\n",
    "plt.bar(r2_values.keys(), r2_values.values(), color=['blue', 'green', 'red', 'purple', 'orange'])\n",
    "plt.xlabel('Models')\n",
    "plt.ylabel('R-squared')\n",
    "plt.title('Comparison of Models by R-squared')\n",
    "plt.xticks(rotation=45)\n",
    "plt.show()\n"
   ]
  },
  {
   "cell_type": "code",
   "execution_count": null,
   "id": "8dd22407-132d-4b51-b3fc-e8246e5ae1af",
   "metadata": {},
   "outputs": [],
   "source": [
    "from sklearn.model_selection import cross_val_score\n",
    "\n",
    "# Number of folds for cross-validation\n",
    "k = 5\n",
    "\n",
    "# Models to evaluate\n",
    "models = {\n",
    "    'Linear Regression': LinearRegression(),\n",
    "    'Decision Tree Regressor': DecisionTreeRegressor(random_state=42),\n",
    "    'Random Forest Regressor': RandomForestRegressor(n_estimators=100, random_state=42),\n",
    "    'Gradient Boosting Regressor': GradientBoostingRegressor(n_estimators=100, learning_rate=0.1, random_state=42)\n",
    "}\n",
    "\n",
    "# Perform cross-validation and collect results\n",
    "cv_results_mse = {}\n",
    "cv_results_r2 = {}\n",
    "\n",
    "for name, model in models.items():\n",
    "    mse_scores = cross_val_score(model, X, y, cv=k, scoring='neg_mean_squared_error')\n",
    "    r2_scores = cross_val_score(model, X, y, cv=k, scoring='r2')\n",
    "    cv_results_mse[name] = -mse_scores.mean()  # Negate because cross_val_score uses negative MSE\n",
    "    cv_results_r2[name] = r2_scores.mean()\n",
    "\n",
    "# Display cross-validation results\n",
    "print(\"Cross-Validation Results (Mean Squared Error):\")\n",
    "for name, mse in cv_results_mse.items():\n",
    "    print(f\"{name}: {mse}\")\n",
    "\n",
    "print(\"\\nCross-Validation Results (R-squared):\")\n",
    "for name, r2 in cv_results_r2.items():\n",
    "    print(f\"{name}: {r2}\")\n"
   ]
  },
  {
   "cell_type": "code",
   "execution_count": null,
   "id": "1d5d7bdd-e23e-44c4-ae72-5c4149d33051",
   "metadata": {},
   "outputs": [],
   "source": [
    "# Plot Cross-Validation MSE values\n",
    "plt.figure(figsize=(10, 5))\n",
    "plt.bar(cv_results_mse.keys(), cv_results_mse.values(), color=['blue', 'green', 'red', 'purple'])\n",
    "plt.xlabel('Models')\n",
    "plt.ylabel('Mean Squared Error (MSE)')\n",
    "plt.title('Cross-Validation Comparison of Models by MSE')\n",
    "plt.xticks(rotation=45)\n",
    "plt.show()\n",
    "\n",
    "# Plot Cross-Validation R-squared values\n",
    "plt.figure(figsize=(10, 5))\n",
    "plt.bar(cv_results_r2.keys(), cv_results_r2.values(), color=['blue', 'green', 'red', 'purple'])\n",
    "plt.xlabel('Models')\n",
    "plt.ylabel('R-squared')\n",
    "plt.title('Cross-Validation Comparison of Models by R-squared')\n",
    "plt.xticks(rotation=45)\n",
    "plt.show()\n"
   ]
  },
  {
   "cell_type": "code",
   "execution_count": null,
   "id": "53050d6f-d1a9-4cc4-8c57-2f489c145358",
   "metadata": {},
   "outputs": [],
   "source": [
    "from sklearn.ensemble import RandomForestRegressor\n",
    "from sklearn.model_selection import GridSearchCV\n",
    "\n",
    "# Define the parameter grid for Random Forest\n",
    "param_grid_rf = {\n",
    "    'n_estimators': [50, 100, 200],\n",
    "    'max_depth': [None, 10, 20, 30],\n",
    "    'min_samples_split': [2, 5, 10],\n",
    "    'min_samples_leaf': [1, 2, 4]\n",
    "}\n",
    "\n",
    "# Grid Search for Random Forest\n",
    "grid_search_rf = GridSearchCV(RandomForestRegressor(random_state=42), param_grid_rf, cv=5, scoring='neg_mean_squared_error')\n",
    "grid_search_rf.fit(X_train, y_train)\n",
    "\n",
    "# Best parameters and score\n",
    "print(f\"Best parameters for Random Forest: {grid_search_rf.best_params_}\")\n",
    "print(f\"Best cross-validation score (MSE): {-grid_search_rf.best_score_}\")\n",
    "\n",
    "# Repeat similar steps for Gradient Boosting\n",
    "from sklearn.ensemble import GradientBoostingRegressor\n",
    "\n",
    "# Define the parameter grid for Gradient Boosting\n",
    "param_grid_gb = {\n",
    "    'n_estimators': [50, 100, 200],\n",
    "    'learning_rate': [0.01, 0.1, 0.2],\n",
    "    'max_depth': [3, 5, 7]\n",
    "}\n",
    "\n",
    "# Grid Search for Gradient Boosting\n",
    "grid_search_gb = GridSearchCV(GradientBoostingRegressor(random_state=42), param_grid_gb, cv=5, scoring='neg_mean_squared_error')\n",
    "grid_search_gb.fit(X_train, y_train)\n",
    "\n",
    "# Best parameters and score\n",
    "print(f\"Best parameters for Gradient Boosting: {grid_search_gb.best_params_}\")\n",
    "print(f\"Best cross-validation score (MSE): {-grid_search_gb.best_score_}\")\n"
   ]
  },
  {
   "cell_type": "code",
   "execution_count": null,
   "id": "d9567be8-a8ea-457b-a93a-f71b6835fe49",
   "metadata": {},
   "outputs": [],
   "source": [
    "import numpy as np\n",
    "from sklearn.linear_model import LinearRegression\n",
    "from sklearn.tree import DecisionTreeRegressor\n",
    "from sklearn.ensemble import RandomForestRegressor\n",
    "from sklearn.metrics import mean_absolute_error, mean_squared_error, r2_score\n",
    "\n",
    "# Initialize models\n",
    "model = [LinearRegression(), DecisionTreeRegressor(), RandomForestRegressor(), GradientBoostingRegressor()]\n",
    "models = ['Linear Regression', 'Decision Tree', 'Random Forest', 'Gradient Boosting Regressor']\n",
    "\n",
    "# Loop through models and compute metrics\n",
    "for i, x in enumerate(model):\n",
    "    train = x.fit(X_train, y_train)\n",
    "    train_test = x.predict(X_test)\n",
    "    print(\"Model for\", models[i])\n",
    "    print(\"MAE: \", np.round(mean_absolute_error(y_test, train_test), 5), \"%\")\n",
    "    print(\"MSE: \", np.round(mean_squared_error(y_test, train_test), 5), \"%\")\n",
    "    print(\"RMSE: \", np.round(np.sqrt(mean_squared_error(y_test, train_test)), 5), \"%\")\n",
    "    print(\"R²: \", np.round(r2_score(y_test, train_test), 5), \"%\")\n"
   ]
  },
  {
   "cell_type": "code",
   "execution_count": null,
   "id": "6846ff76-51c4-4c55-b924-7e68a8f0864d",
   "metadata": {},
   "outputs": [],
   "source": [
    "# Get the feature names seen during fitting\n",
    "feature_names = df.columns\n",
    "print(\"Feature names in the original training data:\")\n",
    "print(feature_names)\n"
   ]
  },
  {
   "cell_type": "code",
   "execution_count": null,
   "id": "e75731cf-7bea-400f-a069-5ac33c8f423c",
   "metadata": {},
   "outputs": [],
   "source": [
    "from sklearn.linear_model import LinearRegression\n",
    "from sklearn.preprocessing import StandardScaler\n",
    "import pickle\n",
    "\n",
    "# Assuming X_train and y_train are already defined\n",
    "# Step 1: Scale the features\n",
    "scaler = StandardScaler()\n",
    "\n",
    "# Fit and transform the training data\n",
    "X_train_scaled = scaler.fit_transform(X_train)\n",
    "\n",
    "# Step 2: Train the model using the scaled data\n",
    "model = LinearRegression()\n",
    "model.fit(X_train_scaled, y_train)\n",
    "\n",
    "# Step 3: Save the model and scaler to pickle files\n",
    "with open('linear_regression_model.pkl', 'wb') as model_file:\n",
    "    pickle.dump(model, model_file)\n",
    "\n",
    "with open('scaler.pkl', 'wb') as scaler_file:\n",
    "    pickle.dump(scaler, scaler_file)\n"
   ]
  },
  {
   "cell_type": "code",
   "execution_count": null,
   "id": "88978e31-ece0-46e6-b093-a8bdc9b0c111",
   "metadata": {},
   "outputs": [],
   "source": [
    "# Load the trained model and scaler from the pickle files\n",
    "with open('linear_regression_model.pkl', 'rb') as model_file:\n",
    "    loaded_model = pickle.load(model_file)\n",
    "\n",
    "with open('scaler.pkl', 'rb') as scaler_file:\n",
    "    loaded_scaler = pickle.load(scaler_file)\n",
    "\n",
    "# Step 4: Scale new input data (X_test) before predicting\n",
    "X_test_scaled = loaded_scaler.transform(X_test)\n",
    "\n",
    "# Step 5: Make predictions\n",
    "predictions = loaded_model.predict(X_test_scaled)\n",
    "\n",
    "# Check the model type\n",
    "print(f\"Model type: {type(loaded_model)}\")\n"
   ]
  },
  {
   "cell_type": "code",
   "execution_count": null,
   "id": "e15e6b49-525a-410a-9286-58333e1c1a2a",
   "metadata": {},
   "outputs": [],
   "source": [
    "import pandas as pd\n",
    "import pickle\n",
    "from sklearn.preprocessing import StandardScaler\n",
    "\n",
    "# Load the trained model and scaler from pickle files\n",
    "with open('linear_regression_model.pkl', 'rb') as model_file:\n",
    "    loaded_model = pickle.load(model_file)\n",
    "\n",
    "with open('scaler.pkl', 'rb') as scaler_file:\n",
    "    loaded_scaler = pickle.load(scaler_file)\n",
    "\n",
    "# Sample input data with the correct feature names\n",
    "data = pd.DataFrame({\n",
    "    'Gender': [1],  # Gender (e.g., 1 for male, 0 for female)\n",
    "    'AttendanceRate': [91],  # Attendance rate in percentage\n",
    "    'StudyHoursPerWeek': [20],  # Study hours per week\n",
    "    'PreviousGrade': [85],  # Previous grade percentage\n",
    "    'ExtracurricularActivities': [80],  # Extracurricular activity score\n",
    "    'ParentalSupport': [3]  # Parental support (scale 1-5)\n",
    "})\n",
    "\n",
    "# Step 1: Scale the input data using the loaded scaler\n",
    "scaled_data = loaded_scaler.transform(data)\n",
    "\n",
    "# Step 2: Perform prediction using the loaded model\n",
    "prediction = loaded_model.predict(scaled_data)\n",
    "\n",
    "# Output the prediction\n",
    "print(f\"Prediction: {prediction[0]}\")\n",
    "\n",
    "# Output the intercept and coefficients\n",
    "print(\"Intercept:\", loaded_model.intercept_)\n",
    "print(\"Coefficients:\", loaded_model.coef_)\n"
   ]
  },
  {
   "cell_type": "code",
   "execution_count": null,
   "id": "e3c82ad5-6e9e-44de-b708-d5ff502d0f33",
   "metadata": {},
   "outputs": [],
   "source": [
    "import pandas as pd\n",
    "import pickle\n",
    "\n",
    "# Load the trained model and scaler from pickle files\n",
    "with open('linear_regression_model.pkl', 'rb') as model_file:\n",
    "    loaded_model = pickle.load(model_file)\n",
    "\n",
    "with open('scaler.pkl', 'rb') as scaler_file:\n",
    "    loaded_scaler = pickle.load(scaler_file)\n",
    "\n",
    "# Sample input data with different values and the correct feature names\n",
    "data = pd.DataFrame({\n",
    "    'Gender': [0],  # 0 for Female (assuming binary encoding)\n",
    "    'AttendanceRate': [85],  # Percentage attendance\n",
    "    'StudyHoursPerWeek': [15],  # Number of study hours per week\n",
    "    'PreviousGrade': [75],  # Previous grade score\n",
    "    'ExtracurricularActivities': [60],  # Score for extracurricular activities\n",
    "    'ParentalSupport': [2]  # Level of parental support (assuming scale 1 to 3)\n",
    "})\n",
    "\n",
    "# Step 1: Scale the input data using the loaded scaler\n",
    "scaled_data = loaded_scaler.transform(data)\n",
    "\n",
    "# Step 2: Perform prediction using the loaded model\n",
    "prediction = loaded_model.predict(scaled_data)\n",
    "\n",
    "# Output the prediction\n",
    "print(f\"Prediction for input data: {prediction[0]}\")\n",
    "\n",
    "# Output the intercept and coefficients\n",
    "print(\"Intercept:\", loaded_model.intercept_)\n",
    "print(\"Coefficients:\", loaded_model.coef_)\n"
   ]
  },
  {
   "cell_type": "code",
   "execution_count": null,
   "id": "eff1784d-6b6b-4957-aa4f-cedafddf94de",
   "metadata": {},
   "outputs": [],
   "source": [
    "# Now you can use this model to predict based on new inputs\n",
    "# Enter new values for prediction\n",
    "gender = float(input(\"Enter Gender (0 for Female, 1 for Male): \"))\n",
    "attendance_rate = float(input(\"Enter Attendance Rate (between 0 and 1): \"))\n",
    "study_hours = float(input(\"Enter Study Hours Per Week (between 0 and 1): \"))\n",
    "previous_grade = float(input(\"Enter Previous Grade (between 0 and 1): \"))\n",
    "extracurricular_activities = float(input(\"Enter Extracurricular Activities Score (between 0 and 1): \"))\n",
    "parental_support = float(input(\"Enter Parental Support Level (between 0 and 1): \"))\n",
    "\n",
    "# Prepare the user input as a DataFrame\n",
    "user_input = pd.DataFrame({\n",
    "    'Gender': [gender],\n",
    "    'AttendanceRate': [attendance_rate],\n",
    "    'StudyHoursPerWeek': [study_hours],\n",
    "    'PreviousGrade': [previous_grade],\n",
    "    'ExtracurricularActivities': [extracurricular_activities],\n",
    "    'ParentalSupport': [parental_support]\n",
    "})\n",
    "\n",
    "# Step 1: Scale the input data using the loaded scaler\n",
    "scaled_data = loaded_scaler.transform(user_input)\n",
    "\n",
    "# Step 2: Perform prediction using the loaded model\n",
    "prediction = loaded_model.predict(scaled_data)\n",
    "\n",
    "# Output the prediction\n",
    "print(f\"Prediction for input data: {prediction[0]}\")\n",
    "\n",
    "# Output the prediction\n",
    "print(f\"Prediction for the student's Final Grade: {prediction[0]:.2f}\")"
   ]
  },
  {
   "cell_type": "code",
   "execution_count": null,
   "id": "606a625b-6b25-4f17-b8b5-710392afc6fc",
   "metadata": {},
   "outputs": [],
   "source": [
    "import pickle\n",
    "import pandas as pd\n",
    "\n",
    "# Load the trained model and scaler from pickle files\n",
    "with open('linear_regression_model.pkl', 'rb') as model_file:\n",
    "    loaded_model = pickle.load(model_file)\n",
    "\n",
    "with open('scaler.pkl', 'rb') as scaler_file:\n",
    "    loaded_scaler = pickle.load(scaler_file)\n",
    "\n",
    "# Now you can use this model to predict based on new inputs\n",
    "# Enter new values for prediction\n",
    "gender = float(input(\"Enter Gender (0 for Female, 1 for Male): \"))\n",
    "attendance_rate = float(input(\"Enter Attendance Rate (between 0 and 100): \"))\n",
    "study_hours = float(input(\"Enter Study Hours Per Week (between 0 and 168): \"))  # assuming 168 hours in a week\n",
    "previous_grade = float(input(\"Enter Previous Grade (between 0 and 100): \"))\n",
    "extracurricular_activities = float(input(\"Enter Extracurricular Activities Score (between 0 and 100): \"))\n",
    "parental_support = float(input(\"Enter Parental Support Level (between 1 and 5): \"))\n",
    "\n",
    "# Prepare the user input as a DataFrame\n",
    "user_input = pd.DataFrame({\n",
    "    'Gender': [gender],\n",
    "    'AttendanceRate': [attendance_rate],\n",
    "    'StudyHoursPerWeek': [study_hours],\n",
    "    'PreviousGrade': [previous_grade],\n",
    "    'ExtracurricularActivities': [extracurricular_activities],\n",
    "    'ParentalSupport': [parental_support]\n",
    "})\n",
    "\n",
    "# Step 1: Scale the input data using the loaded scaler\n",
    "scaled_data = loaded_scaler.transform(user_input)\n",
    "\n",
    "# Step 2: Perform prediction using the loaded model\n",
    "prediction = loaded_model.predict(scaled_data)\n",
    "\n",
    "# Output the prediction\n",
    "print(f\"Prediction for the student's Final Grade: {prediction[0]:.2f}\")\n"
   ]
  },
  {
   "cell_type": "code",
   "execution_count": null,
   "id": "ae0d5461-7b96-4dcc-a802-8b341625be05",
   "metadata": {},
   "outputs": [],
   "source": [
    "# Print the intercept and coefficients of the model\n",
    "print(\"Intercept (β0):\", loaded_model.intercept_)\n",
    "print(\"Coefficients (β1, β2, ..., βn):\", loaded_model.coef_)\n"
   ]
  },
  {
   "cell_type": "code",
   "execution_count": null,
   "id": "99487694-11ab-47d8-a48a-7e0fb0997a01",
   "metadata": {},
   "outputs": [],
   "source": [
    "import numpy as np\n",
    "import pickle\n",
    "\n",
    "# Load the trained model and scaler from pickle files\n",
    "with open('linear_regression_model.pkl', 'rb') as model_file:\n",
    "    loaded_model = pickle.load(model_file)\n",
    "\n",
    "with open('scaler.pkl', 'rb') as scaler_file:\n",
    "    loaded_scaler = pickle.load(scaler_file)\n",
    "\n",
    "# Provide input as a 2D NumPy array (with one row for a single prediction)\n",
    "# Example: [Gender, AttendanceRate, StudyHoursPerWeek, PreviousGrade, ExtracurricularActivities, ParentalSupport]\n",
    "input_data = np.array([[0, 85, 15, 75, 60, 2]])\n",
    "\n",
    "# Step 1: Scale the input data using the loaded scaler\n",
    "scaled_input = loaded_scaler.transform(input_data)\n",
    "\n",
    "# Step 2: Perform prediction using the loaded model\n",
    "prediction = loaded_model.predict(scaled_input)\n",
    "\n",
    "# Output the prediction\n",
    "print(f\"Prediction for the student's Final Grade: {prediction[0]:.2f}\")\n"
   ]
  },
  {
   "cell_type": "code",
   "execution_count": null,
   "id": "f44eb923-d5d7-4d0c-9d78-65c5afd409ec",
   "metadata": {},
   "outputs": [],
   "source": [
    "import json\n",
    "import pandas as pd\n",
    "\n",
    "# Input in JSON format (simulating an API request)\n",
    "input_json = '''\n",
    "{\n",
    "    \"Gender\": 0,\n",
    "    \"AttendanceRate\": 85,\n",
    "    \"StudyHoursPerWeek\": 15,\n",
    "    \"PreviousGrade\": 75,\n",
    "    \"ExtracurricularActivities\": 60,\n",
    "    \"ParentalSupport\": 2\n",
    "}\n",
    "'''\n",
    "\n",
    "# Convert JSON string to Python dictionary\n",
    "input_dict = json.loads(input_json)\n",
    "\n",
    "# Step 1: Convert dictionary to a pandas DataFrame\n",
    "input_data = pd.DataFrame([input_dict])\n",
    "\n",
    "# Step 2: Scale the input data using the loaded scaler\n",
    "scaled_input = loaded_scaler.transform(input_data)\n",
    "\n",
    "# Step 3: Perform prediction using the loaded model\n",
    "prediction = loaded_model.predict(scaled_input)\n",
    "\n",
    "# Output the prediction\n",
    "print(f\"Prediction for the student's Final Grade: {prediction[0]:.2f}\")\n"
   ]
  },
  {
   "cell_type": "code",
   "execution_count": null,
   "id": "b84ac494-f3ae-4545-828f-2fd165aafa8c",
   "metadata": {},
   "outputs": [],
   "source": [
    "import json\n",
    "import pandas as pd\n",
    "\n",
    "# Input in JSON format (simulating an API request)\n",
    "input_json = '''\n",
    "{\n",
    "    \"Gender\": 1,\n",
    "    \"AttendanceRate\": 95,\n",
    "    \"StudyHoursPerWeek\": 30,\n",
    "    \"PreviousGrade\": 90,\n",
    "    \"ExtracurricularActivities\": 85,\n",
    "    \"ParentalSupport\": 5\n",
    "}\n",
    "\n",
    "'''\n",
    "\n",
    "# Convert JSON string to Python dictionary\n",
    "input_dict = json.loads(input_json)\n",
    "\n",
    "# Step 1: Convert dictionary to a pandas DataFrame\n",
    "input_data = pd.DataFrame([input_dict])\n",
    "\n",
    "# Step 2: Scale the input data using the loaded scaler\n",
    "scaled_input = loaded_scaler.transform(input_data)\n",
    "\n",
    "# Step 3: Perform prediction using the loaded model\n",
    "prediction = loaded_model.predict(scaled_input)\n",
    "\n",
    "# Output the prediction\n",
    "print(f\"Prediction for the student's Final Grade: {prediction[0]:.2f}\")\n"
   ]
  },
  {
   "cell_type": "markdown",
   "id": "ea6591c0-e644-4552-aafc-92b34508e2a7",
   "metadata": {},
   "source": [
    "### Updated Code with MinMaxScaler"
   ]
  },
  {
   "cell_type": "code",
   "execution_count": null,
   "id": "34fd3c66-3ff3-4091-abe6-8f4061169d31",
   "metadata": {},
   "outputs": [],
   "source": [
    "from sklearn.linear_model import LinearRegression\n",
    "from sklearn.preprocessing import MinMaxScaler\n",
    "import pickle\n",
    "\n",
    "# Assuming X_train and y_train are already defined (replace with your actual data)\n",
    "\n",
    "# Step 1: Scale the features using MinMaxScaler\n",
    "minmax_scaler = MinMaxScaler()\n",
    "\n",
    "# Fit and transform the training data with MinMaxScaler\n",
    "X_train_scaled = minmax_scaler.fit_transform(X_train)\n",
    "\n",
    "# Step 2: Train the linear regression model using the scaled data\n",
    "regressor = LinearRegression()\n",
    "regressor.fit(X_train_scaled, y_train)\n",
    "\n",
    "# Step 3: Save the model and scaler to pickle files\n",
    "with open('minmax_linear_regression_model.pkl', 'wb') as model_file:\n",
    "    pickle.dump(regressor, model_file)\n",
    "\n",
    "with open('minmax_scaler.pkl', 'wb') as scaler_file:\n",
    "    pickle.dump(minmax_scaler, scaler_file)\n",
    "\n",
    "print(\"Model and scaler have been saved successfully.\")\n"
   ]
  },
  {
   "cell_type": "code",
   "execution_count": null,
   "id": "f0eb7836-73e9-419d-9f3e-68f759bda6cc",
   "metadata": {},
   "outputs": [],
   "source": [
    "import json\n",
    "import pandas as pd\n",
    "import pickle\n",
    "\n",
    "# Load the saved model\n",
    "with open('minmax_linear_regression_model.pkl', 'rb') as model_file:\n",
    "    loaded_model = pickle.load(model_file)\n",
    "\n",
    "# Load the saved scaler\n",
    "with open('minmax_scaler.pkl', 'rb') as scaler_file:\n",
    "    loaded_scaler = pickle.load(scaler_file)\n",
    "\n",
    "# Input in JSON format (simulating an API request)\n",
    "input_json = '''\n",
    "{\n",
    "    \"Gender\": 1,\n",
    "    \"AttendanceRate\": 90,\n",
    "    \"StudyHoursPerWeek\": 20,\n",
    "    \"PreviousGrade\": 85,\n",
    "    \"ExtracurricularActivities\": 80,\n",
    "    \"ParentalSupport\": 3\n",
    "}\n",
    "'''\n",
    "\n",
    "# Convert JSON string to Python dictionary\n",
    "input_dict = json.loads(input_json)\n",
    "\n",
    "# Step 1: Convert dictionary to a pandas DataFrame\n",
    "input_data = pd.DataFrame([input_dict])\n",
    "\n",
    "# Step 2: Scale the input data using the loaded scaler\n",
    "scaled_input = loaded_scaler.transform(input_data)\n",
    "\n",
    "# Step 3: Perform prediction using the loaded model\n",
    "prediction = loaded_model.predict(scaled_input)\n",
    "\n",
    "# Output the prediction\n",
    "print(f\"Prediction for the student's Final Grade: {prediction[0]:.2f}\")\n"
   ]
  },
  {
   "cell_type": "code",
   "execution_count": null,
   "id": "f74e7e0c-39a1-4032-bc7d-046c8676a6a3",
   "metadata": {},
   "outputs": [],
   "source": [
    "import json\n",
    "import pandas as pd\n",
    "import pickle\n",
    "\n",
    "# Load the saved model\n",
    "with open('minmax_linear_regression_model.pkl', 'rb') as model_file:\n",
    "    loaded_model = pickle.load(model_file)\n",
    "\n",
    "# Load the saved scaler\n",
    "with open('minmax_scaler.pkl', 'rb') as scaler_file:\n",
    "    loaded_scaler = pickle.load(scaler_file)\n",
    "\n",
    "# Input in JSON format (simulating an API request)\n",
    "input_json = '''\n",
    "{\n",
    "    \"Gender\": 0,\n",
    "    \"AttendanceRate\": 85,\n",
    "    \"StudyHoursPerWeek\": 15,\n",
    "    \"PreviousGrade\": 75,\n",
    "    \"ExtracurricularActivities\": 60,\n",
    "    \"ParentalSupport\": 2\n",
    "}\n",
    "'''\n",
    "\n",
    "# Convert JSON string to Python dictionary\n",
    "input_dict = json.loads(input_json)\n",
    "\n",
    "# Step 1: Convert dictionary to a pandas DataFrame\n",
    "input_data = pd.DataFrame([input_dict])\n",
    "\n",
    "# Step 2: Scale the input data using the loaded scaler\n",
    "scaled_input = loaded_scaler.transform(input_data)\n",
    "\n",
    "# Step 3: Perform prediction using the loaded model\n",
    "prediction = loaded_model.predict(scaled_input)\n",
    "\n",
    "# Output the prediction\n",
    "print(f\"Prediction for the student's Final Grade: {prediction[0]:.2f}\")\n"
   ]
  },
  {
   "cell_type": "code",
   "execution_count": null,
   "id": "a49ed616-6ed7-4245-9802-1759d53d050e",
   "metadata": {},
   "outputs": [],
   "source": [
    "import json\n",
    "import pandas as pd\n",
    "import pickle\n",
    "\n",
    "# Step 1: Load the saved model and scaler\n",
    "with open('minmax_linear_regression_model.pkl', 'rb') as model_file:\n",
    "    loaded_model = pickle.load(model_file)\n",
    "\n",
    "with open('minmax_scaler.pkl', 'rb') as scaler_file:\n",
    "    loaded_scaler = pickle.load(scaler_file)\n",
    "\n",
    "# Step 2: Input JSON (simulating an API request)\n",
    "input_json = '''\n",
    "{\n",
    "    \"Gender\": 1,\n",
    "    \"AttendanceRate\": 95,\n",
    "    \"StudyHoursPerWeek\": 30,\n",
    "    \"PreviousGrade\": 90,\n",
    "    \"ExtracurricularActivities\": 85,\n",
    "    \"ParentalSupport\": 5\n",
    "}\n",
    "\n",
    "\n",
    "'''\n",
    "\n",
    "# Convert JSON string to Python dictionary\n",
    "input_dict = json.loads(input_json)\n",
    "\n",
    "# Step 3: Convert dictionary to pandas DataFrame\n",
    "input_data = pd.DataFrame([input_dict])\n",
    "\n",
    "# Step 4: Scale the input data using the loaded scaler\n",
    "scaled_input = loaded_scaler.transform(input_data)\n",
    "\n",
    "# Step 5: Perform prediction using the loaded model\n",
    "prediction = loaded_model.predict(scaled_input)\n",
    "\n",
    "# Step 6: Output the prediction\n",
    "print(f\"Prediction for the student's Final Grade: {prediction[0]:.2f}\")\n"
   ]
  },
  {
   "cell_type": "code",
   "execution_count": null,
   "id": "ad7870bf-ccd9-41a4-b996-eec91cbbdab9",
   "metadata": {},
   "outputs": [],
   "source": []
  }
 ],
 "metadata": {
  "kernelspec": {
   "display_name": "Python 3 (ipykernel)",
   "language": "python",
   "name": "python3"
  },
  "language_info": {
   "codemirror_mode": {
    "name": "ipython",
    "version": 3
   },
   "file_extension": ".py",
   "mimetype": "text/x-python",
   "name": "python",
   "nbconvert_exporter": "python",
   "pygments_lexer": "ipython3",
   "version": "3.12.9"
  }
 },
 "nbformat": 4,
 "nbformat_minor": 5
}
